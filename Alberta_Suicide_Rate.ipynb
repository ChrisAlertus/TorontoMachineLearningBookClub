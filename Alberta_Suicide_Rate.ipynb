{
 "cells": [
  {
   "cell_type": "code",
   "execution_count": 25,
   "metadata": {
    "collapsed": false
   },
   "outputs": [
    {
     "data": {
      "text/plain": [
       "<_csv.reader at 0x107e227c0>"
      ]
     },
     "execution_count": 25,
     "metadata": {},
     "output_type": "execute_result"
    }
   ],
   "source": [
    "#=== Oil Price ===#\n",
    "\n",
    "import csv\n",
    "import urllib2\n",
    "url = \"https://www.quandl.com/api/v3/datasets/DOE/I19263000008.csv\"\n",
    "response = urllib2.urlopen(url)\n",
    "cr = csv.reader(response)\n",
    "\n",
    "cr\n",
    "\n"
   ]
  },
  {
   "cell_type": "code",
   "execution_count": 26,
   "metadata": {
    "collapsed": false
   },
   "outputs": [
    {
     "data": {
      "text/plain": [
       "[u'Canada',\n",
       " u'BC',\n",
       " u'Alberta',\n",
       " u'Alberta Methods',\n",
       " u'Saskatchewan',\n",
       " u'Manitoba',\n",
       " u'Ontario',\n",
       " u'Quebec',\n",
       " u'Newfoundland',\n",
       " u'PEI',\n",
       " u'New Brunswick',\n",
       " u'Nova Scotia',\n",
       " u'Yukon',\n",
       " u'NWT',\n",
       " u'Nunavut']"
      ]
     },
     "execution_count": 26,
     "metadata": {},
     "output_type": "execute_result"
    }
   ],
   "source": [
    "import pandas as pd\n",
    "file = \"/Users/Yue/Downloads/Suicide Statistics for Canada and Provinces_151209.xlsx\"\n",
    "\n",
    "xl = pd.ExcelFile(file)\n",
    "xl.sheet_names\n",
    "\n"
   ]
  },
  {
   "cell_type": "code",
   "execution_count": 27,
   "metadata": {
    "collapsed": false
   },
   "outputs": [
    {
     "data": {
      "text/plain": [
       "Unnamed: 1                   1990\n",
       "2014-09-25 00:00:00          1991\n",
       "Unnamed: 3                   1992\n",
       "Unnamed: 4                   1993\n",
       "Unnamed: 5                   1994\n",
       "Unnamed: 6                   1995\n",
       "Unnamed: 7                   1996\n",
       "Unnamed: 8                   1997\n",
       "Unnamed: 9             1998 RATES\n",
       "Unnamed: 10            1999 RATES\n",
       "Unnamed: 11                  2000\n",
       "Unnamed: 12                  2001\n",
       "Unnamed: 13                  2002\n",
       "Unnamed: 14                  2003\n",
       "Unnamed: 15                  2004\n",
       "Unnamed: 16                  2005\n",
       "Unnamed: 17                  2006\n",
       "Unnamed: 18                  2007\n",
       "Unnamed: 19                  2008\n",
       "Unnamed: 20                  2009\n",
       "Unnamed: 21                  2010\n",
       "Unnamed: 22                  2011\n",
       "Unnamed: 23                  2012\n",
       "Unnamed: 24                  2013\n",
       "Unnamed: 25                  2014\n",
       "Unnamed: 26                   NaN\n",
       "Unnamed: 27                   NaN\n",
       "Unnamed: 28                   NaN\n",
       "Unnamed: 29                   NaN\n",
       "Name: 1, dtype: object"
      ]
     },
     "execution_count": 27,
     "metadata": {},
     "output_type": "execute_result"
    }
   ],
   "source": [
    "xl.parse(\"Alberta\").iloc[1][1:30]"
   ]
  },
  {
   "cell_type": "markdown",
   "metadata": {
    "collapsed": true
   },
   "source": [
    "Time Series Simulation\n",
    "\n",
    "Candidate Algorithms \n",
    "\n",
    "(1) AR<sub>1</sub>: this is a parametric model with the assumption that this month's suicide rate can be correlated to last month's suicide rate -> contagious effect\n",
    "\n",
    "Building blocks:\n",
    "\n",
    "* scipy.random.normal(mu, sigma, (nPath, nPeriod)) "
   ]
  },
  {
   "cell_type": "code",
   "execution_count": 21,
   "metadata": {
    "collapsed": false
   },
   "outputs": [
    {
     "name": "stdout",
     "output_type": "stream",
     "text": [
      "[[ 0.16277249 -0.5614553  -0.70276605  0.91113645 -1.75207564 -0.69859222\n",
      "  -1.37147261  0.7521298  -1.36509061 -1.79103465  0.58433427  1.01085219]\n",
      " [ 0.52158761 -0.44871438 -0.43651777 -0.83787571 -1.34808004 -1.14838638\n",
      "   1.27301378  0.42436703 -0.7193931   0.46080716 -1.51314921  1.05935181]]\n"
     ]
    }
   ],
   "source": [
    "import scipy as sp\n",
    "import numpy as np\n",
    "import matplotlib.pyplot as plt\n",
    "\n",
    "mu = 0\n",
    "sigma=1\n",
    "nPath = 2\n",
    "nPeriod = 12\n",
    "noise = sp.random.normal(mu, sigma, (nPath, nPeriod))\n",
    "print noise\n",
    "x = noise[0]\n",
    "y= noise[1]"
   ]
  },
  {
   "cell_type": "code",
   "execution_count": 22,
   "metadata": {
    "collapsed": false
   },
   "outputs": [],
   "source": [
    "H, xedges, yedges = np.histogram2d(y, x)"
   ]
  },
  {
   "cell_type": "code",
   "execution_count": null,
   "metadata": {
    "collapsed": false
   },
   "outputs": [],
   "source": [
    "fig = plt.figure(figsize=(7, 3))\n",
    "ax = fig.add_subplot(131)\n",
    "ax.set_title('imshow: equidistant')\n",
    "im = plt.imshow(H, interpolation='nearest', origin='low',\n",
    "                extent=[xedges[0], xedges[-1], yedges[0], yedges[-1]])\n",
    "plt.show()"
   ]
  },
  {
   "cell_type": "code",
   "execution_count": 33,
   "metadata": {
    "collapsed": false
   },
   "outputs": [
    {
     "data": {
      "text/plain": [
       "<Element html at 0x10eab6f70>"
      ]
     },
     "execution_count": 33,
     "metadata": {},
     "output_type": "execute_result"
    }
   ],
   "source": [
    "from lxml import html\n",
    "import requests\n",
    "\n",
    "url = \"http://www5.statcan.gc.ca/cansim/a26\" \n",
    "page = requests.get(url)\n",
    "tree = html.fromstring(page.content)\n",
    "tree"
   ]
  }
 ],
 "metadata": {
  "kernelspec": {
   "display_name": "Python 2",
   "language": "python",
   "name": "python2"
  },
  "language_info": {
   "codemirror_mode": {
    "name": "ipython",
    "version": 2
   },
   "file_extension": ".py",
   "mimetype": "text/x-python",
   "name": "python",
   "nbconvert_exporter": "python",
   "pygments_lexer": "ipython2",
   "version": "2.7.9"
  }
 },
 "nbformat": 4,
 "nbformat_minor": 0
}
